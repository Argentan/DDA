{
 "cells": [
  {
   "cell_type": "markdown",
   "source": [
    "# Herramientas de Data Mining - Python"
   ],
   "metadata": {}
  },
  {
   "cell_type": "markdown",
   "source": [
    "\n",
    "## 1.- Instalar Python y sus paquetes de computación científica\n",
    "\n",
    "### Opción 1 - WinPython (sólo para Windows): \n",
    "\n",
    "WinPython es una distribución científica portátil del lenguaje de programación Python, que viene con preparado con la vasta mayoría de los paquetes científicos necesarios para trabajos estadísticos, de preparación de datos y de Data Mining. \n",
    "\n",
    "La página principal del proyecto está [acá](https://winpython.github.io/), el repo de github está [acá](https://github.com/winpython/winpython). \n",
    "\n",
    "La principal virtud de esta distribución, además de ser extremadamente fácil de instalar, es que está auto-contenida y no interfiere con otras instalaciones de Python. De esta manera, podemos tener todos las mismas versiones de los paquetes, sin que cada uno de ustedes tenga que modificar sus instalaciones principales de Python (si es que la tienen). \n",
    "\n",
    "Otra virtud de esta distribución es que resulta relativamente simple instalar paquetes adicionales, a través de un panel de control, que permite la instalación por \"Drag and Drop\". Las distribuciones que son puro Python, simplemente se bajan de [Pypi](https://pypi.python.org/pypi). Existen otras librerías que requieren la compilación de módulos externos escritos en C. Muchos de ellos tienen archivos pre-compilados, que se pueden encontrar en la [página de  Christoph Gohlke](http://www.lfd.uci.edu/~gohlke/pythonlibs/), si no existen distribuciones pre-compiladas, la labor es algo más ardua y escapa al objetivo de esta introducción.\n",
    "\n",
    "Durante este curso vamos a usar Python 3.6 de 64 bits. La versión de más actual de WinPython a estos efectos la pueden encontrar [acá](https://github.com/winpython/winpython/releases), bajo el nombre WinPython64-3.6.6.2Qt5.exe ([link directo de descarga](https://github.com/winpython/winpython/releases/download/1.10.20180827/WinPython64-3.6.6.2Qt5.exe)).\n",
    "\n",
    "\n",
    "### Opción 2 - Anaconda (todos los sistemas operativos):\n",
    "\n",
    "Anaconda es otra distribución científica de Python. También viene preparada con una gran cantidad de paquetes científicos, pero tiene la desventaja de que no es portátil. Las instrucciones para descarga e instalación pueden encontrarse [su página de descargas](https://www.continuum.io/downloads). Para instalar paquetes adicionales, en general se pude usar el comando de línea \n",
    "\n",
    "> `conda install <nombre del paquete>`\n",
    "\n",
    "\n",
    "### Opción 3 - Otras Distribuciones o Instalación Manual (solo usuarios muy avanzados):\n",
    "\n",
    "Existen otras distribuciones científicas de Python como [Canopy](https://www.enthought.com/products/canopy/) o también pueden instalar Python sin librerías externas desde la [página principal de Python](https://www.python.org/) y luego instalar de a una las librerías necesarias. Esta tarea es ardua y por momentos muy frustrante para usuarios con moderados conocimientos de compilación de programas en C. \n",
    "\n",
    "## Consideraciones para usuarios de Windows\n",
    "\n",
    "Es muy posible que necesiten instalar [Microsoft Visual C++ 2015 Redistributable](https://www.microsoft.com/en-us/download/details.aspx?id=53587). Además, si usan una versión anterior a Windows 10, quizás también necesiten instalar la actualización de Windows [KB2999226](https://support.microsoft.com/en-us/kb/2999226).\n"
   ],
   "metadata": {
    "slideshow": {
     "slide_type": "-"
    }
   }
  },
  {
   "cell_type": "markdown",
   "source": [
    "## 2.- Breve Introducción a Jupyter Notebooks\n",
    "\n",
    "[Jupyter Notebooks](http://jupyter.org/) es una aplicación cliente-servidor con un \"front end\" en html, que permite la ejecución remota e interactiva de código desde el navegador. Originalmente era exclusivo de Python (IPython Notebooks), pero se generalizó a [otros lenguajes](https://github.com/jupyter/jupyter/wiki/Jupyter-kernels)\n",
    "\n",
    "No es una aplicación destinada a el remplazo de un IDE, sino que es particularmente util para:\n",
    "- Presentaciones y tutoriales interactivos\n",
    "- Prototipado rápido y visualizaciones\n",
    "- Ejecución de código en máquinas remotas y/o en clúster\n",
    "- Kaggle kernels\n",
    "- Azure Notebooks\n",
    "\n",
    "\n",
    "Además, para hacer el trabajo mas simple e interactivo, los notebooks incorporan resaltado de sintaxis, ayuda, renderizado de markdown y Latex, como así también funciones \"mágicas\", que iremos viendo a medida que sean útiles. \n",
    "\n",
    "Por ejemplo, esta presentación está escrita en markdown y la siguiente fórmula en Latex\n",
    "\n",
    "$$c = \\sqrt{a^2 + b^2}$$\n",
    "\n",
    "> `$$c = \\sqrt{a^2 + b^2}$$`\n"
   ],
   "metadata": {
    "slideshow": {
     "slide_type": "slide"
    }
   }
  },
  {
   "cell_type": "code",
   "execution_count": null,
   "source": [
    "# ejemplos de ayuda y autocompletado (interactivo)\r\n",
    "import pandas as pd\r\n",
    "\r\n",
    "pd.read_csv?\r\n",
    "#pd.read_csv()"
   ],
   "outputs": [],
   "metadata": {
    "slideshow": {
     "slide_type": "slide"
    }
   }
  },
  {
   "cell_type": "code",
   "execution_count": null,
   "source": [
    "%lsmagic"
   ],
   "outputs": [],
   "metadata": {
    "slideshow": {
     "slide_type": "subslide"
    }
   }
  },
  {
   "cell_type": "code",
   "execution_count": null,
   "source": [
    "%%timeit\r\n",
    "a = 100\r\n",
    "list(range(10000))\r\n",
    "b = 123"
   ],
   "outputs": [],
   "metadata": {
    "slideshow": {
     "slide_type": "subslide"
    }
   }
  },
  {
   "cell_type": "code",
   "execution_count": null,
   "source": [
    "%timeit l = 0"
   ],
   "outputs": [],
   "metadata": {}
  },
  {
   "cell_type": "code",
   "execution_count": null,
   "source": [
    "%%html\r\n",
    "<h1> Titulo </h1>"
   ],
   "outputs": [],
   "metadata": {}
  },
  {
   "cell_type": "markdown",
   "source": [
    "## 3.- Breve Introducción a Python\n",
    "\n",
    "Python es un lenguaje interpretado de tipos dinámicos. A diferencia de R, por ejemplo, es un lenguaje de uso general y su capacidad para las ciencias de datos no viene dada desde sus librerías internas sino por los módulos externos. Se puede usar en forma imperativa u orientada a objetos; teóricamente también dentro del paradigma de programación funcional, pero con ciertas limitaciones (existen límites para ejecución recursiva, por ejemplo).\n",
    "\n",
    "Python puro tiende a ser lento (para ejecutar, rápido para escribir), por tener tipos dinámicos y por el GIL. Sin embargo, el intérprete más comúnmente usado (CPytyhon) esta implementado en C y permite la integración de módulos externos de C, C++ y Fortran que, bien utilizados, permiten la aceleración de las partes claves de un programa. \n",
    "\n",
    "Desde lo estético, Python reemplaza las llaves por indentaciones, cosa que fuerza un código más leíble. Por lo demás, existe toda una \"filosofía\" de lo que es \"pythonico\", en términos de prolijidad, funcionalidad y belleza del código."
   ],
   "metadata": {
    "slideshow": {
     "slide_type": "slide"
    }
   }
  },
  {
   "cell_type": "code",
   "execution_count": null,
   "source": [
    "import this"
   ],
   "outputs": [],
   "metadata": {}
  },
  {
   "cell_type": "code",
   "execution_count": null,
   "source": [
    "# definición de variables\r\n",
    "\"\"\"\r\n",
    "las variables se definen simplemente con un signo =\r\n",
    "\"\"\"\r\n",
    "\r\n",
    "cadena = \"estos es una cadena de texto\"\r\n",
    "entero = 10\r\n",
    "punto_flotante = 10.4\r\n",
    "punto_flotante_alternativa = 10.\r\n",
    "lista = [\"elemento1\", \"elemento2\", 1236]\r\n",
    "diccionario = {\"llave1\": 1, \"llave2\": 2}\r\n"
   ],
   "outputs": [],
   "metadata": {}
  },
  {
   "cell_type": "code",
   "execution_count": null,
   "source": [
    "type(1), type(2), type(2/1)"
   ],
   "outputs": [],
   "metadata": {}
  },
  {
   "cell_type": "code",
   "execution_count": null,
   "source": [
    "%whos"
   ],
   "outputs": [],
   "metadata": {}
  },
  {
   "cell_type": "code",
   "execution_count": null,
   "source": [
    "#los elementos de una lista se acceden por indice, los diccionarios por nombre de la clave\r\n",
    "\r\n",
    "print(lista[0]) #en python se empieza a contar desde 0\r\n",
    "print(diccionario[\"llave1\"])\r\n",
    "diccionario.llave1"
   ],
   "outputs": [],
   "metadata": {}
  },
  {
   "cell_type": "markdown",
   "source": [
    "### Definición de funciones\n",
    "\n",
    "Las funciones se definen con la palabra clave `def`\n",
    "\n",
    "```python\n",
    "def funcion(argumento1, argumento2, argumento_con_default=None, \n",
    "            *argumentos_posicionales_aninimos, **otros_argumentos_con_nombre)\n",
    "    # hacer algo\n",
    "    algo = 0\n",
    "    return algo\n",
    "```"
   ],
   "metadata": {}
  },
  {
   "cell_type": "code",
   "execution_count": null,
   "source": [
    "def func1(a, b=1, *args, **kwargs):\r\n",
    "    print(\"a =\", a)\r\n",
    "    print(\"b =\", b)\r\n",
    "    for i, arg in enumerate(args):\r\n",
    "        print(\"elemento {0} de args es igual a {1}\".format(i, arg))\r\n",
    "    for i, arg in enumerate(kwargs):\r\n",
    "        print(\"elemento {0} de kwargs es igual a {1}\".format(arg, kwargs[arg]))"
   ],
   "outputs": [],
   "metadata": {}
  },
  {
   "cell_type": "code",
   "execution_count": null,
   "source": [
    "func1(entero, punto_flotante, *lista, **diccionario)"
   ],
   "outputs": [],
   "metadata": {}
  },
  {
   "cell_type": "code",
   "execution_count": null,
   "source": [
    "# for loops\r\n",
    "\r\n",
    "for (k, v), o in zip(diccionario.items(), [1,2]):\r\n",
    "    print(k, v, o)"
   ],
   "outputs": [],
   "metadata": {}
  },
  {
   "cell_type": "code",
   "execution_count": null,
   "source": [
    "a = list([1,2,3])\r\n",
    "b = tuple([1,2,3])\r\n",
    "a[0] =10\r\n",
    "b[0] = 100"
   ],
   "outputs": [],
   "metadata": {}
  },
  {
   "cell_type": "code",
   "execution_count": null,
   "source": [
    "a"
   ],
   "outputs": [],
   "metadata": {}
  },
  {
   "cell_type": "code",
   "execution_count": null,
   "source": [
    "# while loops\r\n",
    "\r\n",
    "import numpy as np\r\n",
    "\r\n",
    "cent = 0\r\n",
    "print(cent)\r\n",
    "while cent < 0.5:\r\n",
    "    cent = np.random.rand()\r\n",
    "    print(\"nuevo cent:\", cent)"
   ],
   "outputs": [],
   "metadata": {}
  },
  {
   "cell_type": "code",
   "execution_count": null,
   "source": [
    "n = 10000\r\n",
    "lista1 = []\r\n",
    "for a in range(n):\r\n",
    "    b = a + 2 \r\n",
    "    lista1.append(b)\r\n",
    "lista2 = [a + 2 for a in range(n)] "
   ],
   "outputs": [],
   "metadata": {}
  },
  {
   "cell_type": "code",
   "execution_count": null,
   "source": [
    "print(lista1 is lista2)\r\n",
    "print(lista1 == lista2)"
   ],
   "outputs": [],
   "metadata": {}
  },
  {
   "cell_type": "code",
   "execution_count": null,
   "source": [
    "lista3 = lista2\r\n",
    "lista3 is lista2"
   ],
   "outputs": [],
   "metadata": {}
  },
  {
   "cell_type": "code",
   "execution_count": null,
   "source": [
    "lista2[0] = \"nuevo_elemento\"\r\n",
    "lista3"
   ],
   "outputs": [],
   "metadata": {}
  },
  {
   "cell_type": "code",
   "execution_count": null,
   "source": [
    "lista4 = lista1.copy()\r\n",
    "lista1[0] = \"nuevo2\"\r\n",
    "lista4"
   ],
   "outputs": [],
   "metadata": {}
  },
  {
   "cell_type": "code",
   "execution_count": null,
   "source": [
    "dic_comp ={k: v for k, v in zip([\"elem_\" + str(i) for i in range(10)], range(10))}\r\n",
    "dic_comp"
   ],
   "outputs": [],
   "metadata": {}
  },
  {
   "cell_type": "markdown",
   "source": [
    "#### Generadores\n",
    "\n",
    "Los generadores son un tipo especial de iteradores. A diferencia de una lista, por ejemplo, no contienen en memoria todos sus elementos, sino que los van \"generando\" a medida que le son requeridos"
   ],
   "metadata": {}
  },
  {
   "cell_type": "code",
   "execution_count": null,
   "source": [
    "generator = (a for a in range(10))\r\n",
    "generator"
   ],
   "outputs": [],
   "metadata": {}
  },
  {
   "cell_type": "code",
   "execution_count": null,
   "source": [
    "for a in generator:\r\n",
    "    print(a)"
   ],
   "outputs": [],
   "metadata": {}
  },
  {
   "cell_type": "code",
   "execution_count": null,
   "source": [
    "generator"
   ],
   "outputs": [],
   "metadata": {}
  },
  {
   "cell_type": "code",
   "execution_count": null,
   "source": [
    "list(generator)"
   ],
   "outputs": [],
   "metadata": {}
  },
  {
   "cell_type": "code",
   "execution_count": null,
   "source": [
    "generator = (a for a in range(10))\r\n",
    "list(generator)"
   ],
   "outputs": [],
   "metadata": {}
  },
  {
   "cell_type": "markdown",
   "source": [
    "\n",
    "## 4.- Breve Introducción a Pandas\n",
    "\n",
    "Pandas es una librería externa para la manipulación de datos tabulares. Usa array de datos de numpy con timos homogeneos **por columnas**. Por convención, se importa como pd\n",
    "\n",
    "```python\n",
    "import pandas as pd\n",
    "```"
   ],
   "metadata": {}
  },
  {
   "cell_type": "code",
   "execution_count": null,
   "source": [
    "from sklearn.datasets import load_iris\r\n",
    "\r\n",
    "base_data = load_iris()\r\n",
    "base_data\r\n",
    "del data"
   ],
   "outputs": [],
   "metadata": {}
  },
  {
   "cell_type": "code",
   "execution_count": null,
   "source": [
    "base_data.keys()"
   ],
   "outputs": [],
   "metadata": {}
  },
  {
   "cell_type": "code",
   "execution_count": null,
   "source": [
    "print(base_data[\"DESCR\"])"
   ],
   "outputs": [],
   "metadata": {}
  },
  {
   "cell_type": "code",
   "execution_count": null,
   "source": [
    "target_names = base_data[\"target_names\"]\r\n",
    "data = pd.DataFrame(base_data[\"data\"], columns=base_data['feature_names'])\r\n",
    "data.index.name = \"index\"\r\n",
    "data"
   ],
   "outputs": [],
   "metadata": {}
  },
  {
   "cell_type": "code",
   "execution_count": null,
   "source": [
    "#falta incorporar el target de predicción\r\n",
    "\r\n",
    "target = pd.Series(base_data[\"target\"], name=\"target\")\r\n",
    "target"
   ],
   "outputs": [],
   "metadata": {}
  },
  {
   "cell_type": "code",
   "execution_count": null,
   "source": [
    "\r\n",
    "data"
   ],
   "outputs": [],
   "metadata": {}
  },
  {
   "cell_type": "code",
   "execution_count": null,
   "source": [
    "%ls"
   ],
   "outputs": [],
   "metadata": {}
  },
  {
   "cell_type": "code",
   "execution_count": null,
   "source": [
    "data.to_csv(\"iris.csv\")\r\n",
    "data.to_pickle(\"iris.pkl\")\r\n",
    "data.to_excel(\"iris.xlsx\")\r\n",
    "%ls"
   ],
   "outputs": [],
   "metadata": {}
  },
  {
   "cell_type": "code",
   "execution_count": null,
   "source": [
    "data = pd.read_csv(\"iris.csv\", index_col=\"index\")\r\n",
    "data = pd.read_pickle(\"iris.pkl\")\r\n",
    "data = pd.read_excel(\"iris.xlsx\", index_col=\"index\")"
   ],
   "outputs": [],
   "metadata": {}
  },
  {
   "cell_type": "code",
   "execution_count": null,
   "source": [
    "data"
   ],
   "outputs": [],
   "metadata": {}
  },
  {
   "cell_type": "code",
   "execution_count": null,
   "source": [
    "data[\"sepal length (cm)\"]"
   ],
   "outputs": [],
   "metadata": {}
  },
  {
   "cell_type": "code",
   "execution_count": null,
   "source": [
    "data.ix[146, 1]"
   ],
   "outputs": [],
   "metadata": {}
  },
  {
   "cell_type": "code",
   "execution_count": null,
   "source": [
    "data[\"sepal length (cm)\"].plot()"
   ],
   "outputs": [],
   "metadata": {}
  },
  {
   "cell_type": "code",
   "execution_count": null,
   "source": [
    "%matplotlib inline  \r\n",
    "data[\"sepal length (cm)\"].plot()"
   ],
   "outputs": [],
   "metadata": {}
  },
  {
   "cell_type": "code",
   "execution_count": null,
   "source": [
    "data.plot.scatter(x=\"sepal length (cm)\", y=\"sepal width (cm)\", color=data.target / 2, colormap=\"cool\")"
   ],
   "outputs": [],
   "metadata": {}
  },
  {
   "cell_type": "code",
   "execution_count": null,
   "source": [
    "import seaborn as sns\r\n",
    "sns.set()\r\n",
    "\r\n",
    "data\r\n",
    "sns.pairplot(data, hue=\"target\")"
   ],
   "outputs": [],
   "metadata": {}
  },
  {
   "cell_type": "code",
   "execution_count": null,
   "source": [
    "data.target.value_counts()"
   ],
   "outputs": [],
   "metadata": {}
  },
  {
   "cell_type": "code",
   "execution_count": null,
   "source": [
    "data[\"target\"] = data.target.apply(lambda x: target_names[x])\r\n",
    "sns.pairplot(data, hue=\"target\")"
   ],
   "outputs": [],
   "metadata": {}
  },
  {
   "cell_type": "code",
   "execution_count": null,
   "source": [],
   "outputs": [],
   "metadata": {}
  },
  {
   "cell_type": "code",
   "execution_count": null,
   "source": [],
   "outputs": [],
   "metadata": {}
  },
  {
   "cell_type": "code",
   "execution_count": null,
   "source": [],
   "outputs": [],
   "metadata": {}
  }
 ],
 "metadata": {
  "kernelspec": {
   "name": "python3",
   "display_name": "Python 3.8.5 64-bit ('base': conda)"
  },
  "language_info": {
   "codemirror_mode": {
    "name": "ipython",
    "version": 3
   },
   "file_extension": ".py",
   "mimetype": "text/x-python",
   "name": "python",
   "nbconvert_exporter": "python",
   "pygments_lexer": "ipython3",
   "version": "3.8.5"
  },
  "interpreter": {
   "hash": "a6437847c4f061d7d98f8ece1357b6ab6d7bfc023b0092983a68f4b4033749c0"
  }
 },
 "nbformat": 4,
 "nbformat_minor": 2
}