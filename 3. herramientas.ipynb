{
 "cells": [
  {
   "cell_type": "markdown",
   "metadata": {},
   "source": [
    "<a href=\"https://colab.research.google.com/github/Argentan/dda/blob/master/3.%20herramientas.ipynb\" target=\"_parent\"><img src=\"https://colab.research.google.com/assets/colab-badge.svg\" alt=\"Open In Colab\"/></a>"
   ]
  },
  {
   "cell_type": "markdown",
   "metadata": {},
   "source": [
    "# Herramientas de Data Mining - Python"
   ]
  },
  {
   "cell_type": "markdown",
   "metadata": {
    "slideshow": {
     "slide_type": "-"
    }
   },
   "source": [
    "## Git\n",
    "\n",
    "En principio, buena parte del código y tutoriales serán alojados en un [repositorio público de GitHub](https://github.com/Argentan/DMA_LAB2/tree/master). Es posible acceder a ellos directamente desde el web, pero es más deseable sincronizarlos con una versión local. \n",
    "\n",
    "### Opción 1 - Clientes Git puros + VSCode (todos los sistemas operativo):\n",
    "\n",
    "Existen varias opciones de interface gráfica y de línea de comandos para el sistema [git](https://git-scm.com/downloads). Es aconsejable utilizar tambien un IDE adecuado, es posible usar simplemente jupyter notebooks directamente o a través de otro IDE como [VsCode](https://code.visualstudio.com/).\n",
    "\n",
    "### Opción 2 - GitHub Desktop (Windows y Mac):\n",
    "\n",
    "[Github Desktop](https://desktop.github.com/) es una interface gráfica para el sistema git, integrada con la plataforma GitHub pero útil para cualquier repo.\n"
   ]
  },
  {
   "cell_type": "markdown",
   "metadata": {},
   "source": [
    "\n",
    "## Python y sus paquetes de computación científica\n",
    "\n",
    "### Opción 1 - Anaconda (todos los sistemas operativos):\n",
    "\n",
    "Anaconda es otra distribución científica de Python. También viene preparada con una gran cantidad de paquetes científicos, pero tiene la desventaja de que no es portátil. Las instrucciones para descarga e instalación pueden encontrarse [su página de descargas](https://www.anaconda.com/products/individual). Para instalar paquetes adicionales, en general se pude usar el comando de línea \n",
    "\n",
    "> `conda install <nombre del paquete>`\n",
    "\n",
    "\n",
    "### Opción 2 - WinPython (sólo para Windows): \n",
    "\n",
    "WinPython es una distribución científica portátil del lenguaje de programación Python, que viene con preparado con la vasta mayoría de los paquetes científicos necesarios para trabajos estadísticos, de preparación de datos y de Data Mining. \n",
    "\n",
    "La página principal del proyecto está [acá](https://winpython.github.io/), el repo de github está [acá](https://github.com/winpython/winpython). \n",
    "\n",
    "La principal virtud de esta distribución, además de ser extremadamente fácil de instalar, es que está auto-contenida y no interfiere con otras instalaciones de Python. De esta manera, podemos tener todos las mismas versiones de los paquetes, sin que cada uno de ustedes tenga que modificar sus instalaciones principales de Python (si es que la tienen). \n",
    "\n",
    "Otra virtud de esta distribución es que resulta relativamente simple instalar paquetes adicionales, a través de un panel de control, que permite la instalación por \"Drag and Drop\". Las distribuciones que son puro Python, simplemente se bajan de [Pypi](https://pypi.python.org/pypi). Existen otras librerías que requieren la compilación de módulos externos escritos en C. Muchos de ellos tienen archivos pre-compilados, que se pueden encontrar en la [página de  Christoph Gohlke](http://www.lfd.uci.edu/~gohlke/pythonlibs/), si no existen distribuciones pre-compiladas, la labor es algo más ardua y escapa al objetivo de esta introducción.\n",
    "\n",
    "\n",
    "### Opción 3 - Instalación Manual (solo usuarios muy avanzados):\n",
    "\n",
    "También pueden instalar Python sin librerías externas desde la [página principal de Python](https://www.python.org/) y luego instalar de a una las librerías necesarias. Esta tarea es ardua y por momentos muy frustrante para usuarios con moderados conocimientos de compilación de programas en C. \n"
   ]
  },
  {
   "cell_type": "markdown",
   "metadata": {
    "slideshow": {
     "slide_type": "slide"
    }
   },
   "source": [
    "## Jupyter Notebooks\n",
    "\n",
    "[Jupyter Notebooks](http://jupyter.org/) es una aplicación cliente-servidor con un \"front end\" en html, que permite la ejecución remota e interactiva de código desde el navegador. Originalmente era exclusivo de Python (IPython Notebooks), pero se generalizó a [otros lenguajes](https://github.com/jupyter/jupyter/wiki/Jupyter-kernels)\n",
    "\n",
    "No es una aplicación destinada a el remplazo de un IDE, sino que es particularmente util para:\n",
    "- Presentaciones y tutoriales interactivos\n",
    "- Prototipado rápido y visualizaciones\n",
    "- Ejecución de código en máquinas remotas y/o en clúster\n",
    "- Kaggle kernels **nota al margen: sería bueno que vayan abriendo una cuenta**\n",
    "\n",
    "\n",
    "Además, para hacer el trabajo mas simple e interactivo, los notebooks incorporan resaltado de sintaxis, ayuda, renderizado de markdown y Latex, como así también funciones \"mágicas\", que iremos viendo a medida que sean útiles. \n",
    "\n",
    "Por ejemplo, esta presentación está escrita en markdown y la siguiente fórmula en Latex\n",
    "\n",
    "$$c = \\sqrt{a^2 + b^2}$$\n",
    "\n",
    "> `$$c = \\sqrt{a^2 + b^2}$$`\n"
   ]
  },
  {
   "cell_type": "code",
   "execution_count": null,
   "metadata": {
    "slideshow": {
     "slide_type": "slide"
    }
   },
   "outputs": [],
   "source": [
    "# ejemplos de ayuda y autocompletado (interactivo)\n",
    "import pandas as pd\n",
    "\n",
    "pd.read_csv?\n",
    "#pd.read_csv()"
   ]
  },
  {
   "cell_type": "code",
   "execution_count": null,
   "metadata": {
    "slideshow": {
     "slide_type": "subslide"
    }
   },
   "outputs": [],
   "source": [
    "%lsmagic"
   ]
  },
  {
   "cell_type": "code",
   "execution_count": null,
   "metadata": {
    "slideshow": {
     "slide_type": "subslide"
    }
   },
   "outputs": [],
   "source": [
    "%%timeit\n",
    "a = 100\n",
    "list(range(10000))\n",
    "b = 123"
   ]
  },
  {
   "cell_type": "code",
   "execution_count": null,
   "metadata": {},
   "outputs": [],
   "source": [
    "%timeit l = 0"
   ]
  },
  {
   "cell_type": "code",
   "execution_count": null,
   "metadata": {},
   "outputs": [],
   "source": [
    "%%html\n",
    "<h1> Titulo </h1>"
   ]
  },
  {
   "cell_type": "markdown",
   "metadata": {
    "slideshow": {
     "slide_type": "slide"
    }
   },
   "source": [
    "## 3.- Breve Introducción a Python\n",
    "\n",
    "Python es un lenguaje interpretado de tipos dinámicos. A diferencia de R, por ejemplo, es un lenguaje de uso general y su capacidad para las ciencias de datos no viene dada desde sus librerías internas sino por los módulos externos. Se puede usar en forma imperativa u orientada a objetos; teóricamente también dentro del paradigma de programación funcional, pero con ciertas limitaciones (existen límites para ejecución recursiva, por ejemplo).\n",
    "\n",
    "Python puro tiende a ser lento (para ejecutar, rápido para escribir), por tener tipos dinámicos y por el GIL. Sin embargo, el intérprete más comúnmente usado (CPytyhon) esta implementado en C y permite la integración de módulos externos de C, C++ y Fortran que, bien utilizados, permiten la aceleración de las partes claves de un programa. \n",
    "\n",
    "Desde lo estético, Python reemplaza las llaves por indentaciones, cosa que fuerza un código más leíble. Por lo demás, existe toda una \"filosofía\" de lo que es \"pythonico\", en términos de prolijidad, funcionalidad y belleza del código."
   ]
  },
  {
   "cell_type": "code",
   "execution_count": null,
   "metadata": {},
   "outputs": [],
   "source": [
    "import this"
   ]
  },
  {
   "cell_type": "code",
   "execution_count": null,
   "metadata": {},
   "outputs": [],
   "source": [
    "# definición de variables\n",
    "\"\"\"\n",
    "las variables se definen simplemente con un signo =\n",
    "\"\"\"\n",
    "\n",
    "cadena = \"estos es una cadena de texto\"\n",
    "entero = 10\n",
    "punto_flotante = 10.4\n",
    "punto_flotante_alternativa = 10.\n",
    "lista = [\"elemento1\", \"elemento2\", 1236]\n",
    "diccionario = {\"llave1\": 1, \"llave2\": 2}\n"
   ]
  },
  {
   "cell_type": "code",
   "execution_count": null,
   "metadata": {},
   "outputs": [],
   "source": [
    "type(1), type(2), type(2/1)"
   ]
  },
  {
   "cell_type": "code",
   "execution_count": null,
   "metadata": {},
   "outputs": [],
   "source": [
    "%whos"
   ]
  },
  {
   "cell_type": "code",
   "execution_count": null,
   "metadata": {},
   "outputs": [],
   "source": [
    "#los elementos de una lista se acceden por indice, los diccionarios por nombre de la clave\n",
    "\n",
    "print(lista[0]) #en python se empieza a contar desde 0\n",
    "print(diccionario[\"llave1\"])\n",
    "diccionario.llave1"
   ]
  },
  {
   "cell_type": "markdown",
   "metadata": {},
   "source": [
    "### Definición de funciones\n",
    "\n",
    "Las funciones se definen con la palabra clave `def`\n",
    "\n",
    "```python\n",
    "def funcion(argumento1, argumento2, argumento_con_default=None, \n",
    "            *argumentos_posicionales_aninimos, **otros_argumentos_con_nombre)\n",
    "    # hacer algo\n",
    "    algo = 0\n",
    "    return algo\n",
    "```"
   ]
  },
  {
   "cell_type": "code",
   "execution_count": null,
   "metadata": {},
   "outputs": [],
   "source": [
    "def func1(a, b=1, *args, **kwargs):\n",
    "    print(\"a =\", a)\n",
    "    print(\"b =\", b)\n",
    "    for i, arg in enumerate(args):\n",
    "        print(\"elemento {0} de args es igual a {1}\".format(i, arg))\n",
    "    for i, arg in enumerate(kwargs):\n",
    "        print(\"elemento {0} de kwargs es igual a {1}\".format(arg, kwargs[arg]))"
   ]
  },
  {
   "cell_type": "code",
   "execution_count": null,
   "metadata": {},
   "outputs": [],
   "source": [
    "func1(entero, punto_flotante, *lista, **diccionario)"
   ]
  },
  {
   "cell_type": "code",
   "execution_count": null,
   "metadata": {},
   "outputs": [],
   "source": [
    "# for loops\n",
    "\n",
    "for (k, v), o in zip(diccionario.items(), [1,2]):\n",
    "    print(k, v, o)"
   ]
  },
  {
   "cell_type": "code",
   "execution_count": null,
   "metadata": {},
   "outputs": [],
   "source": [
    "a = list([1,2,3])\n",
    "b = tuple([1,2,3])\n",
    "a[0] = 10\n",
    "b[0] = 100"
   ]
  },
  {
   "cell_type": "code",
   "execution_count": null,
   "metadata": {},
   "outputs": [],
   "source": [
    "# while loops\n",
    "\n",
    "import numpy as np\n",
    "\n",
    "cent = 0\n",
    "print(cent)\n",
    "while cent < 0.5:\n",
    "    cent = np.random.rand()\n",
    "    print(\"nuevo cent:\", cent)"
   ]
  },
  {
   "cell_type": "code",
   "execution_count": null,
   "metadata": {},
   "outputs": [],
   "source": [
    "n = 10000\n",
    "lista1 = []\n",
    "for a in range(n):\n",
    "    b = a + 2 \n",
    "    lista1.append(b)\n",
    "lista2 = [a + 2 for a in range(n)] "
   ]
  },
  {
   "cell_type": "code",
   "execution_count": null,
   "metadata": {},
   "outputs": [],
   "source": [
    "print(lista1 is lista2)\n",
    "print(lista1 == lista2)"
   ]
  },
  {
   "cell_type": "code",
   "execution_count": null,
   "metadata": {},
   "outputs": [],
   "source": [
    "lista3 = lista2\n",
    "lista3 is lista2"
   ]
  },
  {
   "cell_type": "code",
   "execution_count": null,
   "metadata": {},
   "outputs": [],
   "source": [
    "lista2[0] = \"nuevo_elemento\"\n",
    "lista3"
   ]
  },
  {
   "cell_type": "code",
   "execution_count": null,
   "metadata": {},
   "outputs": [],
   "source": [
    "lista4 = lista1.copy()\n",
    "lista1[0] = \"nuevo2\"\n",
    "lista4"
   ]
  },
  {
   "cell_type": "code",
   "execution_count": null,
   "metadata": {},
   "outputs": [],
   "source": [
    "dic_comp ={k: v for k, v in zip([\"elem_\" + str(i) for i in range(10)], range(10))}\n",
    "dic_comp"
   ]
  },
  {
   "cell_type": "markdown",
   "metadata": {},
   "source": [
    "#### Generadores\n",
    "\n",
    "Los generadores son un tipo especial de iteradores. A diferencia de una lista, por ejemplo, no contienen en memoria todos sus elementos, sino que los van \"generando\" a medida que le son requeridos"
   ]
  },
  {
   "cell_type": "code",
   "execution_count": null,
   "metadata": {},
   "outputs": [],
   "source": [
    "generator = (a for a in range(10))\n",
    "generator"
   ]
  },
  {
   "cell_type": "code",
   "execution_count": null,
   "metadata": {},
   "outputs": [],
   "source": [
    "for a in generator:\n",
    "    print(a)"
   ]
  },
  {
   "cell_type": "code",
   "execution_count": null,
   "metadata": {},
   "outputs": [],
   "source": [
    "generator"
   ]
  },
  {
   "cell_type": "code",
   "execution_count": null,
   "metadata": {},
   "outputs": [],
   "source": [
    "list(generator)"
   ]
  },
  {
   "cell_type": "code",
   "execution_count": null,
   "metadata": {},
   "outputs": [],
   "source": [
    "generator = (a for a in range(10))\n",
    "list(generator)"
   ]
  },
  {
   "cell_type": "markdown",
   "metadata": {},
   "source": [
    "\n",
    "## Breve Introducción a Pandas\n",
    "\n",
    "Pandas es una librería externa para la manipulación de datos tabulares. Usa array de datos de numpy con timos homogeneos **por columnas**. Por convención, se importa como pd\n",
    "\n",
    "```python\n",
    "import pandas as pd\n",
    "```"
   ]
  },
  {
   "cell_type": "code",
   "execution_count": null,
   "metadata": {},
   "outputs": [],
   "source": [
    "from sklearn.datasets import load_iris\n",
    "\n",
    "base_data = load_iris()\n",
    "base_data\n",
    "del data"
   ]
  },
  {
   "cell_type": "code",
   "execution_count": null,
   "metadata": {},
   "outputs": [],
   "source": [
    "base_data.keys()"
   ]
  },
  {
   "cell_type": "code",
   "execution_count": null,
   "metadata": {},
   "outputs": [],
   "source": [
    "print(base_data[\"DESCR\"])"
   ]
  },
  {
   "cell_type": "code",
   "execution_count": null,
   "metadata": {},
   "outputs": [],
   "source": [
    "target_names = base_data[\"target_names\"]\n",
    "data = pd.DataFrame(base_data[\"data\"], columns=base_data['feature_names'])\n",
    "data.index.name = \"index\"\n",
    "data"
   ]
  },
  {
   "cell_type": "code",
   "execution_count": null,
   "metadata": {},
   "outputs": [],
   "source": [
    "#falta incorporar el target de predicción\n",
    "\n",
    "target = pd.Series(base_data[\"target\"], name=\"target\")\n",
    "target"
   ]
  },
  {
   "cell_type": "code",
   "execution_count": null,
   "metadata": {},
   "outputs": [],
   "source": [
    "data"
   ]
  },
  {
   "cell_type": "code",
   "execution_count": null,
   "metadata": {},
   "outputs": [],
   "source": [
    "%ls"
   ]
  },
  {
   "cell_type": "code",
   "execution_count": null,
   "metadata": {},
   "outputs": [],
   "source": [
    "data.to_csv(\"iris.csv\")\n",
    "data.to_pickle(\"iris.pkl\")\n",
    "data.to_excel(\"iris.xlsx\")\n",
    "%ls"
   ]
  },
  {
   "cell_type": "code",
   "execution_count": null,
   "metadata": {},
   "outputs": [],
   "source": [
    "data = pd.read_csv(\"iris.csv\", index_col=\"index\")\n",
    "data = pd.read_pickle(\"iris.pkl\")\n",
    "data = pd.read_excel(\"iris.xlsx\", index_col=\"index\")"
   ]
  },
  {
   "cell_type": "code",
   "execution_count": null,
   "metadata": {},
   "outputs": [],
   "source": [
    "data"
   ]
  },
  {
   "cell_type": "code",
   "execution_count": null,
   "metadata": {},
   "outputs": [],
   "source": [
    "data[\"sepal length (cm)\"]"
   ]
  },
  {
   "cell_type": "code",
   "execution_count": null,
   "metadata": {},
   "outputs": [],
   "source": [
    "data.ix[146, 1]"
   ]
  },
  {
   "cell_type": "code",
   "execution_count": null,
   "metadata": {},
   "outputs": [],
   "source": [
    "data[\"sepal length (cm)\"].plot()"
   ]
  },
  {
   "cell_type": "code",
   "execution_count": null,
   "metadata": {},
   "outputs": [],
   "source": [
    "%matplotlib inline  \n",
    "data[\"sepal length (cm)\"].plot()"
   ]
  },
  {
   "cell_type": "code",
   "execution_count": null,
   "metadata": {},
   "outputs": [],
   "source": [
    "data.plot.scatter(x=\"sepal length (cm)\", y=\"sepal width (cm)\", color=data.target / 2, colormap=\"cool\")"
   ]
  },
  {
   "cell_type": "code",
   "execution_count": null,
   "metadata": {},
   "outputs": [],
   "source": [
    "import seaborn as sns\n",
    "sns.set()\n",
    "\n",
    "data\n",
    "sns.pairplot(data, hue=\"target\")"
   ]
  },
  {
   "cell_type": "code",
   "execution_count": null,
   "metadata": {},
   "outputs": [],
   "source": [
    "data.target.value_counts()"
   ]
  },
  {
   "cell_type": "code",
   "execution_count": null,
   "metadata": {},
   "outputs": [],
   "source": [
    "data[\"target\"] = data.target.apply(lambda x: target_names[x])\n",
    "sns.pairplot(data, hue=\"target\")"
   ]
  }
 ],
 "metadata": {
  "interpreter": {
   "hash": "a6437847c4f061d7d98f8ece1357b6ab6d7bfc023b0092983a68f4b4033749c0"
  },
  "kernelspec": {
   "display_name": "Python 3.8.5 64-bit ('base': conda)",
   "name": "python3"
  },
  "language_info": {
   "codemirror_mode": {
    "name": "ipython",
    "version": 3
   },
   "file_extension": ".py",
   "mimetype": "text/x-python",
   "name": "python",
   "nbconvert_exporter": "python",
   "pygments_lexer": "ipython3",
   "version": "3.8.5"
  }
 },
 "nbformat": 4,
 "nbformat_minor": 2
}
