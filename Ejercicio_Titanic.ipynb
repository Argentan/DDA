{
  "nbformat": 4,
  "nbformat_minor": 0,
  "metadata": {
    "kernelspec": {
      "display_name": "Python 3",
      "language": "python",
      "name": "python3"
    },
    "language_info": {
      "codemirror_mode": {
        "name": "ipython",
        "version": 3
      },
      "file_extension": ".py",
      "mimetype": "text/x-python",
      "name": "python",
      "nbconvert_exporter": "python",
      "pygments_lexer": "ipython3",
      "version": "3.7.3"
    },
    "colab": {
      "name": "Ejercicio Titanic.ipynb",
      "provenance": [],
      "include_colab_link": true
    }
  },
  "cells": [
    {
      "cell_type": "markdown",
      "metadata": {
        "id": "view-in-github",
        "colab_type": "text"
      },
      "source": [
        "<a href=\"https://colab.research.google.com/github/Argentan/DDA/blob/master/Ejercicio_Titanic.ipynb\" target=\"_parent\"><img src=\"https://colab.research.google.com/assets/colab-badge.svg\" alt=\"Open In Colab\"/></a>"
      ]
    },
    {
      "cell_type": "markdown",
      "metadata": {
        "id": "23X_AOn45BD1"
      },
      "source": [
        "# Ejercicio con la base de Titanic"
      ]
    },
    {
      "cell_type": "markdown",
      "metadata": {
        "id": "iMvWitpM5BD2"
      },
      "source": [
        "Pueden buscar información del problema en: \n",
        "\n",
        "https://www.kaggle.com/c/titanic"
      ]
    },
    {
      "cell_type": "markdown",
      "metadata": {
        "id": "ungieRuU5BD2"
      },
      "source": [
        "##### Vamos a entrenar modelos para predecir nuestra variable target \"**Survived**\" que representa si la persona sobrevivió o no al titanic\n",
        "##### Al ser un target binario vamos a entrenar modelos de **Clasificación** y vamos a ver que modelo tiene el mejor resultado\n",
        "##### La metrica de validación que vamos a utilizar es el **Accuracy** (¿Qué porcentaje de predicciones fue correcta?)"
      ]
    },
    {
      "cell_type": "markdown",
      "metadata": {
        "id": "pZEO1bkU5BD2"
      },
      "source": [
        "## Consignas de Preprocesamiento:"
      ]
    },
    {
      "cell_type": "markdown",
      "metadata": {
        "id": "J2rR-Mlx5BD3"
      },
      "source": [
        " - Leer el Dataset\n",
        " - Decidir en que casos deben Imputar datos Perdidos, borrarlos o dejarlos\n",
        " - Decidir que hacer con las variables categóricas: LabelEncoder, OneHotEncoder, Eliminarlas o dejarlas como están\n",
        " - Puedo crear variables nuevas a partir de los datos?"
      ]
    },
    {
      "cell_type": "code",
      "metadata": {
        "id": "34po_2PD5BD3"
      },
      "source": [
        "# Importamos las Librerías\n",
        "\n",
        "import numpy as np\n",
        "import pandas as pd\n",
        "\n",
        "from sklearn import metrics\n",
        "from sklearn.model_selection import train_test_split, GridSearchCV\n",
        "from sklearn.preprocessing import StandardScaler, OneHotEncoder\n",
        "\n",
        "from sklearn.tree import DecisionTreeClassifier\n",
        "from sklearn.linear_model import LogisticRegression\n",
        "from sklearn.neighbors import KNeighborsClassifier"
      ],
      "execution_count": null,
      "outputs": []
    },
    {
      "cell_type": "markdown",
      "metadata": {
        "id": "owqkK6GlhggQ"
      },
      "source": [
        "### Leemos el archivo\n",
        "\n"
      ]
    },
    {
      "cell_type": "code",
      "metadata": {
        "id": "nLNfMYCIgfP_"
      },
      "source": [
        "df = pd.read_csv('https://raw.githubusercontent.com/Argentan/DMA_LAB2/master/data/titanic.csv')"
      ],
      "execution_count": null,
      "outputs": []
    },
    {
      "cell_type": "code",
      "metadata": {
        "id": "lsBrzxQ2hYmx"
      },
      "source": [
        "df.head()"
      ],
      "execution_count": null,
      "outputs": []
    },
    {
      "cell_type": "markdown",
      "metadata": {
        "id": "hnNNQyiRhdT1"
      },
      "source": [
        "### Preprocesamos Variables"
      ]
    },
    {
      "cell_type": "code",
      "metadata": {
        "id": "iKCU9jeqguj3"
      },
      "source": [
        "# Codificamos el Genero en una variable Numerica\n",
        "sex = {'male':0, 'female':1}\n",
        "df['Sex'] = df['Sex'].map(sex)"
      ],
      "execution_count": null,
      "outputs": []
    },
    {
      "cell_type": "code",
      "metadata": {
        "id": "xuCPTIulhsKE"
      },
      "source": [
        "# Codificamos el Puerto en una variable Numerica\n",
        "embark = {}\n",
        "df['Embarked'] = "
      ],
      "execution_count": null,
      "outputs": []
    },
    {
      "cell_type": "code",
      "metadata": {
        "id": "9d0m09Cwh_NR"
      },
      "source": [
        "# Descomponemos el Nombre, separando el Apellido\n",
        "s1 = df.Name.str.split(pat=',', expand=True) \n",
        "s1.head()"
      ],
      "execution_count": null,
      "outputs": []
    },
    {
      "cell_type": "code",
      "metadata": {
        "id": "jmduKJouiH_g"
      },
      "source": [
        "# Descomponemos el Nombre, separando el Titulo (se separa por un punto \".\")\n"
      ],
      "execution_count": null,
      "outputs": []
    },
    {
      "cell_type": "code",
      "metadata": {
        "id": "nLFCzZoGk1VU"
      },
      "source": [
        "s2[0].value_counts()"
      ],
      "execution_count": null,
      "outputs": []
    },
    {
      "cell_type": "code",
      "metadata": {
        "id": "Ijtj3wrvkypB"
      },
      "source": [
        "s2[0] = s2[0].replace([' Lady', ' Countess',' Capt', ' Col',' Mlle', ' Ms',' Mme', ' the Countess',\\\n",
        "    ' Don', ' Dr', ' Major', ' Rev', ' Sir', ' Jonkheer', ' Dona'], 'Rare')"
      ],
      "execution_count": null,
      "outputs": []
    },
    {
      "cell_type": "code",
      "metadata": {
        "id": "DU1cZGWLlsil"
      },
      "source": [
        "s2[0].value_counts()"
      ],
      "execution_count": null,
      "outputs": []
    },
    {
      "cell_type": "code",
      "metadata": {
        "id": "nY6sgREzigPN"
      },
      "source": [
        "# Agregamos la columna del Título\n",
        "df.insert(3,'Type',s2[0])"
      ],
      "execution_count": null,
      "outputs": []
    },
    {
      "cell_type": "code",
      "metadata": {
        "id": "gBMkwrFfqgP-"
      },
      "source": [
        "# Codificamos el Título en una variable Numerica \n",
        "# {' Mr':0, ' Miss':1, ' Mrs':2, ' Master':3, 'Rare':4}\n",
        "\n",
        "types = \n",
        "df['Type'] = "
      ],
      "execution_count": null,
      "outputs": []
    },
    {
      "cell_type": "code",
      "metadata": {
        "id": "k7U-UpzOi8Rn"
      },
      "source": [
        "# Agregar una Variable de Tamaño de la Familia (SibSp + Parch + 1)\n",
        "df['FamilyT'] = "
      ],
      "execution_count": null,
      "outputs": []
    },
    {
      "cell_type": "code",
      "metadata": {
        "id": "PxONHlMAoDXz"
      },
      "source": [
        "# Chequeamos los nulos\n",
        "df.isnull().sum()"
      ],
      "execution_count": null,
      "outputs": []
    },
    {
      "cell_type": "code",
      "metadata": {
        "id": "kNyuj-GZoKTy"
      },
      "source": [
        "# Imputamos los nulos con un valor constante -1 (usando df.fillna)\n"
      ],
      "execution_count": null,
      "outputs": []
    },
    {
      "cell_type": "code",
      "metadata": {
        "id": "Qy0vt9BSi72A"
      },
      "source": [
        "# Descartamos las Variables que no nos sirven para predecir usando df.drop\n",
        "# ['Ticket', 'Name', 'Cabin','PassengerId']\n"
      ],
      "execution_count": null,
      "outputs": []
    },
    {
      "cell_type": "code",
      "metadata": {
        "id": "Jk0gluPIjUJB"
      },
      "source": [
        "df.head()"
      ],
      "execution_count": null,
      "outputs": []
    },
    {
      "cell_type": "markdown",
      "metadata": {
        "id": "SdsxP1JMR6Ad"
      },
      "source": [
        "# Crédito Extra 1: Crear una nueva variable, fuera de las vistas en Clase\n",
        "\n",
        "Ejemplos:\n",
        "- Variable Niño / Adulto (Edad > 18)\n",
        "- Variable Mismo Apellido (Similar a Título)\n",
        "- Variable Cabina - Primera Letra (A, B, C....)"
      ]
    },
    {
      "cell_type": "markdown",
      "metadata": {
        "id": "HOFuPr5ssibp"
      },
      "source": [
        "### Normalizamos los Datos"
      ]
    },
    {
      "cell_type": "code",
      "metadata": {
        "id": "sLpNjGDssiyH"
      },
      "source": [
        "# Aplicamos StandardScaler a todas las columnas menos el Target\n",
        "scaled_features = StandardScaler().fit_transform(df.iloc[:,1:])\n",
        "\n",
        "df_scaled = pd.DataFrame(scaled_features, index=df.index, columns=df.columns[1:])\n",
        "\n",
        "df_scaled.insert(0,'Survived',df.Survived)\n",
        "\n",
        "df_scaled.head()"
      ],
      "execution_count": null,
      "outputs": []
    },
    {
      "cell_type": "markdown",
      "metadata": {
        "id": "RrmMOk7Gq_PQ"
      },
      "source": [
        "### Separar en Train y Test"
      ]
    },
    {
      "cell_type": "code",
      "metadata": {
        "id": "KqD3lZXgq-GO"
      },
      "source": [
        "# Separar en Train y Test Split\n",
        "X_train, X_valid, y_train, y_valid = train_test_split(df_scaled.drop(\"Survived\", axis=1), df_scaled.Survived, test_size=0.2, random_state=0)\n",
        "\n",
        "print(f\"X_train: {X_train.shape}\")\n",
        "print(f\"X_valid: {X_valid.shape}\")\n",
        "print(f\"y_train: {y_train.shape}\")\n",
        "print(f\"y_valid: {y_valid.shape}\")"
      ],
      "execution_count": null,
      "outputs": []
    },
    {
      "cell_type": "markdown",
      "metadata": {
        "id": "ma-cEGtA5BD3"
      },
      "source": [
        "## Consignas de Modelado:"
      ]
    },
    {
      "cell_type": "markdown",
      "metadata": {
        "id": "yXyC4QWL5BD3"
      },
      "source": [
        "- Entrenar un modelo de **Arbol de Decisión**\n",
        "- Calcular el Accuracy obtenido en Train\n",
        "\n",
        "- Entrenar un modelo de **Regresión Logística**\n",
        "- Calcular el Accuracy obtenido en Train\n",
        "\n",
        "- Entrenar un modelo de **KNN**\n",
        "- Calcular el Accuracy obtenido en Train"
      ]
    },
    {
      "cell_type": "code",
      "metadata": {
        "id": "qhzjp8-05BD3"
      },
      "source": [
        "# Arbol de Decisión\n",
        "clf = DecisionTreeClassifier()\n",
        "clf.fit(X_train, y_train)"
      ],
      "execution_count": null,
      "outputs": []
    },
    {
      "cell_type": "code",
      "metadata": {
        "id": "m0jBtLub5BD4"
      },
      "source": [
        "accuracy = metrics.accuracy_score(y_valid, clf.predict(X_valid))\n",
        "print('El Accuracy del Arbol de Decisión es:', accuracy)"
      ],
      "execution_count": null,
      "outputs": []
    },
    {
      "cell_type": "markdown",
      "metadata": {
        "id": "o0e-nWif5BD5"
      },
      "source": [
        "***"
      ]
    },
    {
      "cell_type": "code",
      "metadata": {
        "id": "PaXBNB9X5BD5"
      },
      "source": [
        "# Regresión Logística (LogisticRegression)\n",
        "logreg =\n",
        "logreg.fit( \"??\" )"
      ],
      "execution_count": null,
      "outputs": []
    },
    {
      "cell_type": "code",
      "metadata": {
        "id": "hloJlxYq5BD5"
      },
      "source": [
        "accuracy = metrics.accuracy_score( \"??\" )\n",
        "print('El Accuracy de la Regresión Logística es:', accuracy)"
      ],
      "execution_count": null,
      "outputs": []
    },
    {
      "cell_type": "markdown",
      "metadata": {
        "id": "oCneUuDE5BD5"
      },
      "source": [
        "***"
      ]
    },
    {
      "cell_type": "code",
      "metadata": {
        "id": "yIMHd6R35BD5"
      },
      "source": [
        "# KNN (KNeighborsClassifier)\n",
        "knc = \n",
        "knc.fit( \"??\" )"
      ],
      "execution_count": null,
      "outputs": []
    },
    {
      "cell_type": "code",
      "metadata": {
        "id": "1oUxSAAj5BD6"
      },
      "source": [
        "accuracy = \"??\" \n",
        "print('El Accuracy del KNN es:', accuracy)"
      ],
      "execution_count": null,
      "outputs": []
    },
    {
      "cell_type": "markdown",
      "metadata": {
        "id": "EP1PMqoUSDK6"
      },
      "source": [
        "# Crédito Extra 2: Optimizar al menos un Hiperparámetro por Modelo antes de entrenar"
      ]
    },
    {
      "cell_type": "markdown",
      "metadata": {
        "id": "8gKVJkoeSNSk"
      },
      "source": [
        "## Nota Base = 7 / 10\n",
        "## Nota Base + 2 => Crédito Extra 1\n",
        "## Nota Base + 3 => Crédito Extra 2\n"
      ]
    }
  ]
}